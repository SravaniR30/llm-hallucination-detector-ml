import json
import openai

openai.api_key = "YOUR_API_KEY_HERE"

# Load prompts
with open('../prompts/ml_questions.txt', 'r') as f:
    prompts = [line.strip() for line in f.readlines() if line.strip()]

# Load trusted answers
with open('../references/trusted_explanations.json', 'r') as f:
    trusted = json.load(f)

# Example run
for prompt in prompts:
    print(f"\nPrompt: {prompt}")
    response = openai.ChatCompletion.create(
        model="gpt-4",
        messages=[{"role": "user", "content": prompt}]
    )
    answer = response['choices'][0]['message']['content']
    print(f"LLM Response:\n{answer}\n")

    # Check for hallucinations (very simple example)
    for key, truth in trusted.items():
        if key.replace("_", " ") in prompt.lower():
            if truth.lower() not in answer.lower():
                print("❌ Possible hallucination detected!")
            else:
                print("✅ Response matches trusted explanation.")
